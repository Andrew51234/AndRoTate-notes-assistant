{
 "cells": [
  {
   "cell_type": "markdown",
   "metadata": {},
   "source": [
    "### Importing libraries"
   ]
  },
  {
   "cell_type": "code",
   "execution_count": 52,
   "metadata": {},
   "outputs": [],
   "source": [
    "import os\n",
    "os.environ[\"HF_HUB_DISABLE_SYMLINKS_WARNING\"] = \"1\"\n",
    "\n",
    "from langchain.document_loaders import DirectoryLoader\n",
    "# from langchain.document_loaders import UnstructuredMarkdownLoader\n",
    "\n",
    "from langchain.text_splitter import MarkdownTextSplitter\n",
    "# from langchain.text_splitter import MarkdownHeaderTextSplitter\n",
    "\n",
    "from langchain.embeddings import HuggingFaceEmbeddings\n",
    "\n",
    "from langchain_community.vectorstores import FAISS"
   ]
  },
  {
   "cell_type": "markdown",
   "metadata": {},
   "source": [
    "### Recursively loading file(s)"
   ]
  },
  {
   "cell_type": "code",
   "execution_count": null,
   "metadata": {},
   "outputs": [],
   "source": [
    "md_notes_dir = \"../data/md-notes\"\n",
    "os.makedirs(md_notes_dir, exist_ok=True)\n",
    "\n",
    "# Load all md files in the data/md-notes directory\n",
    "loader = DirectoryLoader(md_notes_dir, glob=\"*.md\")\n",
    "documents = loader.load()\n",
    "print(f\"Found {len(documents)} documents\")\n",
    "\n",
    "print(\"documents found: \")\n",
    "for doc in documents:\n",
    "    print(doc.metadata)\n",
    "    print(doc.page_content[:200])\n",
    "\n",
    "first_document = documents[0]\n",
    "print(first_document.page_content[:200])"
   ]
  },
  {
   "cell_type": "markdown",
   "metadata": {},
   "source": [
    "### Text Splitting"
   ]
  },
  {
   "cell_type": "code",
   "execution_count": null,
   "metadata": {},
   "outputs": [],
   "source": [
    "# Split the document into chunks of 1000 characters\n",
    "markdown_splitter = MarkdownTextSplitter(chunk_size = 1000, chunk_overlap = 100)\n",
    "\n",
    "# Split the document into chunks\n",
    "chunks = markdown_splitter.split_documents(documents)\n",
    "print(f\"{len(chunks)} chunks\")\n",
    "\n",
    "print(f\"chunk content: {chunks[0].page_content}\")\n",
    "print(f\"metadata: {chunks[0].metadata}\")"
   ]
  },
  {
   "cell_type": "markdown",
   "metadata": {},
   "source": [
    "### Embedding & Indexing using FAISS"
   ]
  },
  {
   "cell_type": "code",
   "execution_count": null,
   "metadata": {},
   "outputs": [],
   "source": [
    "# Load the embedding model\n",
    "embeddings = HuggingFaceEmbeddings(model_name=\"sentence-transformers/all-mpnet-base-v2\")\n",
    "\n",
    "# Create a FAISS instance from the chunks and embeddings\n",
    "vectorstore = FAISS.from_documents(chunks, embeddings)\n",
    "\n",
    "data_store_dir = \"../data/vectorstore\"\n",
    "os.makedirs(data_store_dir, exist_ok=True)\n",
    "\n",
    "# Save the FAISS index to the data-store directory\n",
    "vectorstore.save_local(data_store_dir)\n",
    "\n",
    "print(f\"FAISS index saved to {data_store_dir}\") "
   ]
  }
 ],
 "metadata": {
  "language_info": {
   "name": "python"
  }
 },
 "nbformat": 4,
 "nbformat_minor": 2
}
